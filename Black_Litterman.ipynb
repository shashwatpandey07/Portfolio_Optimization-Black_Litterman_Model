{
  "nbformat": 4,
  "nbformat_minor": 0,
  "metadata": {
    "colab": {
      "provenance": []
    },
    "kernelspec": {
      "name": "python3",
      "display_name": "Python 3"
    },
    "language_info": {
      "name": "python"
    }
  },
  "cells": [
    {
      "cell_type": "markdown",
      "source": [
        "# Installation\n"
      ],
      "metadata": {
        "id": "T6oX6LdTnvFF"
      }
    },
    {
      "cell_type": "code",
      "execution_count": null,
      "metadata": {
        "colab": {
          "base_uri": "https://localhost:8080/"
        },
        "id": "cKUdfR-fnuVx",
        "outputId": "d036ac18-8249-4efc-a03d-37e89ad0d12a"
      },
      "outputs": [
        {
          "output_type": "stream",
          "name": "stdout",
          "text": [
            "Looking in indexes: https://pypi.org/simple, https://us-python.pkg.dev/colab-wheels/public/simple/\n",
            "Requirement already satisfied: yfinance in /usr/local/lib/python3.7/dist-packages (0.1.85)\n",
            "Requirement already satisfied: appdirs>=1.4.4 in /usr/local/lib/python3.7/dist-packages (from yfinance) (1.4.4)\n",
            "Requirement already satisfied: numpy>=1.15 in /usr/local/lib/python3.7/dist-packages (from yfinance) (1.21.6)\n",
            "Requirement already satisfied: lxml>=4.5.1 in /usr/local/lib/python3.7/dist-packages (from yfinance) (4.9.1)\n",
            "Requirement already satisfied: requests>=2.26 in /usr/local/lib/python3.7/dist-packages (from yfinance) (2.28.1)\n",
            "Requirement already satisfied: multitasking>=0.0.7 in /usr/local/lib/python3.7/dist-packages (from yfinance) (0.0.11)\n",
            "Requirement already satisfied: pandas>=0.24.0 in /usr/local/lib/python3.7/dist-packages (from yfinance) (1.3.5)\n",
            "Requirement already satisfied: python-dateutil>=2.7.3 in /usr/local/lib/python3.7/dist-packages (from pandas>=0.24.0->yfinance) (2.8.2)\n",
            "Requirement already satisfied: pytz>=2017.3 in /usr/local/lib/python3.7/dist-packages (from pandas>=0.24.0->yfinance) (2022.5)\n",
            "Requirement already satisfied: six>=1.5 in /usr/local/lib/python3.7/dist-packages (from python-dateutil>=2.7.3->pandas>=0.24.0->yfinance) (1.15.0)\n",
            "Requirement already satisfied: idna<4,>=2.5 in /usr/local/lib/python3.7/dist-packages (from requests>=2.26->yfinance) (2.10)\n",
            "Requirement already satisfied: urllib3<1.27,>=1.21.1 in /usr/local/lib/python3.7/dist-packages (from requests>=2.26->yfinance) (1.24.3)\n",
            "Requirement already satisfied: certifi>=2017.4.17 in /usr/local/lib/python3.7/dist-packages (from requests>=2.26->yfinance) (2022.9.24)\n",
            "Requirement already satisfied: charset-normalizer<3,>=2 in /usr/local/lib/python3.7/dist-packages (from requests>=2.26->yfinance) (2.1.1)\n"
          ]
        }
      ],
      "source": [
        "!pip install yfinance"
      ]
    },
    {
      "cell_type": "markdown",
      "source": [
        "# Importing Packages"
      ],
      "metadata": {
        "id": "S-Va-dDln7XE"
      }
    },
    {
      "cell_type": "code",
      "source": [
        "import numpy as np\n",
        "import pandas as pd\n",
        "import yfinance as yf"
      ],
      "metadata": {
        "id": "tXyyhq-Wnzrg"
      },
      "execution_count": null,
      "outputs": []
    },
    {
      "cell_type": "markdown",
      "source": [
        "# Getting Stock Data"
      ],
      "metadata": {
        "id": "qRf2JxPaoGaS"
      }
    },
    {
      "cell_type": "code",
      "source": [
        "tsla = yf.Ticker('TSLA')\n",
        "nflx = yf.Ticker('NFLX')\n",
        "nvda = yf.Ticker('NVDA')\n",
        "amd = yf.Ticker('AMD')\n",
        "msft = yf.Ticker('MSFT')\n",
        "tbill = yf.Ticker('^TNX')\n",
        "gspc = yf.Ticker('^GSPC')\n",
        "portfolio = pd.DataFrame()\n",
        "Tbill = pd.DataFrame()\n",
        "market = pd.DataFrame()\n",
        "portfolio[\"tsla\"] = tsla.history(period = '253d')[\"Close\"]\n",
        "portfolio[\"nflx\"] = nflx.history(period = \"253d\")[\"Close\"]\n",
        "portfolio[\"nvda\"] = nvda.history(period = \"253d\")[\"Close\"]\n",
        "portfolio[\"amd\"] = amd.history(period = \"253d\")[\"Close\"]\n",
        "portfolio[\"msft\"] = msft.history(period = \"253d\")[\"Close\"]\n",
        "Tbill['tbill'] = tbill.history(period = '253d')[\"Close\"]\n",
        "market['gspc'] = gspc.history(period = '253d')[\"Close\"]"
      ],
      "metadata": {
        "id": "PFvjVhi4oCgK"
      },
      "execution_count": null,
      "outputs": []
    },
    {
      "cell_type": "markdown",
      "source": [
        "# Risk Free Interest Rates"
      ],
      "metadata": {
        "id": "a59D7kuErYtK"
      }
    },
    {
      "cell_type": "code",
      "source": [
        "returns = portfolio.pct_change()\n",
        "tbill_rate = Tbill.pct_change()\n",
        "market_returns = market.pct_change()\n",
        "returns['tsla'] -= tbill_rate[\"tbill\"]\n",
        "returns['nflx'] -= tbill_rate[\"tbill\"]\n",
        "returns['nvda'] -= tbill_rate[\"tbill\"]\n",
        "returns['amd'] -= tbill_rate[\"tbill\"]\n",
        "returns['msft'] -= tbill_rate[\"tbill\"]\n",
        "excess_market_return = pd.DataFrame()\n",
        "excess_market_return['gspc'] = market_returns['gspc'] - tbill_rate[\"tbill\"]"
      ],
      "metadata": {
        "id": "UeUfdFtuou2r"
      },
      "execution_count": null,
      "outputs": []
    },
    {
      "cell_type": "markdown",
      "source": [
        "# Price of Risk\n",
        "\n",
        "\\begin{align}\n",
        "  A = \\frac{E(r_m) - r_f}{σ_m^2}\n",
        "\\end{align}"
      ],
      "metadata": {
        "id": "76F3JUJ3rrmO"
      }
    },
    {
      "cell_type": "code",
      "source": [
        "average_excess_returns = excess_market_return.mean()\n",
        "variance = np.var(market_returns)\n",
        "a = average_excess_returns / variance\n",
        "A = a.iloc[0]\n",
        "A"
      ],
      "metadata": {
        "colab": {
          "base_uri": "https://localhost:8080/"
        },
        "id": "uMGKIL4zrufN",
        "outputId": "1803278c-42cf-4eae-e1fe-a9256e530cef"
      },
      "execution_count": null,
      "outputs": [
        {
          "output_type": "execute_result",
          "data": {
            "text/plain": [
              "-26.59466469089912"
            ]
          },
          "metadata": {},
          "execution_count": 70
        }
      ]
    },
    {
      "cell_type": "markdown",
      "source": [
        " # Variance Covariance Matrix"
      ],
      "metadata": {
        "id": "GPrtvq2_v582"
      }
    },
    {
      "cell_type": "code",
      "source": [
        "S = returns.cov()\n",
        "S"
      ],
      "metadata": {
        "colab": {
          "base_uri": "https://localhost:8080/",
          "height": 206
        },
        "id": "1-RcZuDxrw44",
        "outputId": "52cb5d95-391a-4ee3-9d3a-2187f3f169d0"
      },
      "execution_count": null,
      "outputs": [
        {
          "output_type": "execute_result",
          "data": {
            "text/plain": [
              "          tsla      nflx      nvda       amd      msft\n",
              "tsla  0.002423  0.001844  0.001968  0.001844  0.001391\n",
              "nflx  0.001844  0.003090  0.001910  0.001738  0.001396\n",
              "nvda  0.001968  0.001910  0.002452  0.002183  0.001567\n",
              "amd   0.001844  0.001738  0.002183  0.002270  0.001443\n",
              "msft  0.001391  0.001396  0.001567  0.001443  0.001390"
            ],
            "text/html": [
              "\n",
              "  <div id=\"df-e96c5889-df26-49f9-a212-cd53e9f51918\">\n",
              "    <div class=\"colab-df-container\">\n",
              "      <div>\n",
              "<style scoped>\n",
              "    .dataframe tbody tr th:only-of-type {\n",
              "        vertical-align: middle;\n",
              "    }\n",
              "\n",
              "    .dataframe tbody tr th {\n",
              "        vertical-align: top;\n",
              "    }\n",
              "\n",
              "    .dataframe thead th {\n",
              "        text-align: right;\n",
              "    }\n",
              "</style>\n",
              "<table border=\"1\" class=\"dataframe\">\n",
              "  <thead>\n",
              "    <tr style=\"text-align: right;\">\n",
              "      <th></th>\n",
              "      <th>tsla</th>\n",
              "      <th>nflx</th>\n",
              "      <th>nvda</th>\n",
              "      <th>amd</th>\n",
              "      <th>msft</th>\n",
              "    </tr>\n",
              "  </thead>\n",
              "  <tbody>\n",
              "    <tr>\n",
              "      <th>tsla</th>\n",
              "      <td>0.002423</td>\n",
              "      <td>0.001844</td>\n",
              "      <td>0.001968</td>\n",
              "      <td>0.001844</td>\n",
              "      <td>0.001391</td>\n",
              "    </tr>\n",
              "    <tr>\n",
              "      <th>nflx</th>\n",
              "      <td>0.001844</td>\n",
              "      <td>0.003090</td>\n",
              "      <td>0.001910</td>\n",
              "      <td>0.001738</td>\n",
              "      <td>0.001396</td>\n",
              "    </tr>\n",
              "    <tr>\n",
              "      <th>nvda</th>\n",
              "      <td>0.001968</td>\n",
              "      <td>0.001910</td>\n",
              "      <td>0.002452</td>\n",
              "      <td>0.002183</td>\n",
              "      <td>0.001567</td>\n",
              "    </tr>\n",
              "    <tr>\n",
              "      <th>amd</th>\n",
              "      <td>0.001844</td>\n",
              "      <td>0.001738</td>\n",
              "      <td>0.002183</td>\n",
              "      <td>0.002270</td>\n",
              "      <td>0.001443</td>\n",
              "    </tr>\n",
              "    <tr>\n",
              "      <th>msft</th>\n",
              "      <td>0.001391</td>\n",
              "      <td>0.001396</td>\n",
              "      <td>0.001567</td>\n",
              "      <td>0.001443</td>\n",
              "      <td>0.001390</td>\n",
              "    </tr>\n",
              "  </tbody>\n",
              "</table>\n",
              "</div>\n",
              "      <button class=\"colab-df-convert\" onclick=\"convertToInteractive('df-e96c5889-df26-49f9-a212-cd53e9f51918')\"\n",
              "              title=\"Convert this dataframe to an interactive table.\"\n",
              "              style=\"display:none;\">\n",
              "        \n",
              "  <svg xmlns=\"http://www.w3.org/2000/svg\" height=\"24px\"viewBox=\"0 0 24 24\"\n",
              "       width=\"24px\">\n",
              "    <path d=\"M0 0h24v24H0V0z\" fill=\"none\"/>\n",
              "    <path d=\"M18.56 5.44l.94 2.06.94-2.06 2.06-.94-2.06-.94-.94-2.06-.94 2.06-2.06.94zm-11 1L8.5 8.5l.94-2.06 2.06-.94-2.06-.94L8.5 2.5l-.94 2.06-2.06.94zm10 10l.94 2.06.94-2.06 2.06-.94-2.06-.94-.94-2.06-.94 2.06-2.06.94z\"/><path d=\"M17.41 7.96l-1.37-1.37c-.4-.4-.92-.59-1.43-.59-.52 0-1.04.2-1.43.59L10.3 9.45l-7.72 7.72c-.78.78-.78 2.05 0 2.83L4 21.41c.39.39.9.59 1.41.59.51 0 1.02-.2 1.41-.59l7.78-7.78 2.81-2.81c.8-.78.8-2.07 0-2.86zM5.41 20L4 18.59l7.72-7.72 1.47 1.35L5.41 20z\"/>\n",
              "  </svg>\n",
              "      </button>\n",
              "      \n",
              "  <style>\n",
              "    .colab-df-container {\n",
              "      display:flex;\n",
              "      flex-wrap:wrap;\n",
              "      gap: 12px;\n",
              "    }\n",
              "\n",
              "    .colab-df-convert {\n",
              "      background-color: #E8F0FE;\n",
              "      border: none;\n",
              "      border-radius: 50%;\n",
              "      cursor: pointer;\n",
              "      display: none;\n",
              "      fill: #1967D2;\n",
              "      height: 32px;\n",
              "      padding: 0 0 0 0;\n",
              "      width: 32px;\n",
              "    }\n",
              "\n",
              "    .colab-df-convert:hover {\n",
              "      background-color: #E2EBFA;\n",
              "      box-shadow: 0px 1px 2px rgba(60, 64, 67, 0.3), 0px 1px 3px 1px rgba(60, 64, 67, 0.15);\n",
              "      fill: #174EA6;\n",
              "    }\n",
              "\n",
              "    [theme=dark] .colab-df-convert {\n",
              "      background-color: #3B4455;\n",
              "      fill: #D2E3FC;\n",
              "    }\n",
              "\n",
              "    [theme=dark] .colab-df-convert:hover {\n",
              "      background-color: #434B5C;\n",
              "      box-shadow: 0px 1px 3px 1px rgba(0, 0, 0, 0.15);\n",
              "      filter: drop-shadow(0px 1px 2px rgba(0, 0, 0, 0.3));\n",
              "      fill: #FFFFFF;\n",
              "    }\n",
              "  </style>\n",
              "\n",
              "      <script>\n",
              "        const buttonEl =\n",
              "          document.querySelector('#df-e96c5889-df26-49f9-a212-cd53e9f51918 button.colab-df-convert');\n",
              "        buttonEl.style.display =\n",
              "          google.colab.kernel.accessAllowed ? 'block' : 'none';\n",
              "\n",
              "        async function convertToInteractive(key) {\n",
              "          const element = document.querySelector('#df-e96c5889-df26-49f9-a212-cd53e9f51918');\n",
              "          const dataTable =\n",
              "            await google.colab.kernel.invokeFunction('convertToInteractive',\n",
              "                                                     [key], {});\n",
              "          if (!dataTable) return;\n",
              "\n",
              "          const docLinkHtml = 'Like what you see? Visit the ' +\n",
              "            '<a target=\"_blank\" href=https://colab.research.google.com/notebooks/data_table.ipynb>data table notebook</a>'\n",
              "            + ' to learn more about interactive tables.';\n",
              "          element.innerHTML = '';\n",
              "          dataTable['output_type'] = 'display_data';\n",
              "          await google.colab.output.renderOutput(dataTable, element);\n",
              "          const docLink = document.createElement('div');\n",
              "          docLink.innerHTML = docLinkHtml;\n",
              "          element.appendChild(docLink);\n",
              "        }\n",
              "      </script>\n",
              "    </div>\n",
              "  </div>\n",
              "  "
            ]
          },
          "metadata": {},
          "execution_count": 71
        }
      ]
    },
    {
      "cell_type": "markdown",
      "source": [
        "# Market Weights"
      ],
      "metadata": {
        "id": "Ds2uSRhgwqQy"
      }
    },
    {
      "cell_type": "code",
      "source": [
        "market_cap = {'tsla' : tsla.info['marketCap'], 'nflx' : nflx.info['marketCap'], 'nvda' : nvda.info['marketCap'], 'amd' : amd.info['marketCap'], 'msft' : msft.info['marketCap']}\n",
        "sum_weights = market_cap['tsla'] + market_cap['nflx'] + market_cap['nvda'] + market_cap['amd'] + market_cap['msft']\n",
        "w = np.empty(5)\n",
        "w[0] = market_cap['tsla'] / sum_weights\n",
        "w[1] = market_cap['nflx'] / sum_weights\n",
        "w[2] = market_cap['nvda'] / sum_weights\n",
        "w[3] = market_cap['amd'] / sum_weights\n",
        "w[4] = market_cap['msft'] / sum_weights"
      ],
      "metadata": {
        "id": "oKP2kSzDwpkQ"
      },
      "execution_count": null,
      "outputs": []
    },
    {
      "cell_type": "markdown",
      "source": [
        "# Implied Equilibrium Excess Return\n",
        "\n",
        "\\begin{align}\n",
        "  π = ASw\n",
        "\\end{align}"
      ],
      "metadata": {
        "id": "ifK5SA3XzIvB"
      }
    },
    {
      "cell_type": "code",
      "source": [
        "pi = A * np.dot(S, w)\n",
        "pi"
      ],
      "metadata": {
        "colab": {
          "base_uri": "https://localhost:8080/"
        },
        "id": "8C3D6HYLzIZ3",
        "outputId": "04511ed0-f1b9-4d8c-d9d0-e09118e31cd3"
      },
      "execution_count": null,
      "outputs": [
        {
          "output_type": "execute_result",
          "data": {
            "text/plain": [
              "array([-0.04633283, -0.04383124, -0.04797632, -0.04435188, -0.03758937])"
            ]
          },
          "metadata": {},
          "execution_count": 73
        }
      ]
    },
    {
      "cell_type": "markdown",
      "source": [
        "# Views and Link Matrix (Order: tsla, nflx, nvda, amd, msft)"
      ],
      "metadata": {
        "id": "siQpvlIAzsj1"
      }
    },
    {
      "cell_type": "code",
      "source": [
        "Q = np.array([0.005, 0.01, 0.005])\n",
        "P = np.array([[0, 0, 0, -1, 1], [0, -1, 1, 0, 0], [-1, 1, 0, 0, 0]])"
      ],
      "metadata": {
        "id": "NQsr9Mg6v_TS"
      },
      "execution_count": null,
      "outputs": []
    },
    {
      "cell_type": "markdown",
      "source": [
        "# Uncertainty About Views\n",
        "\n",
        "\\begin{align}\n",
        "  \\Omega = τPSP^T  \n",
        "\\end{align}\n",
        "\n",
        "where $\\tau = 1$"
      ],
      "metadata": {
        "id": "_NawVdNa0uII"
      }
    },
    {
      "cell_type": "code",
      "source": [
        "omega = 1 * np.dot(np.dot(P, S), np.transpose(P))\n",
        "omega"
      ],
      "metadata": {
        "colab": {
          "base_uri": "https://localhost:8080/"
        },
        "id": "0T2MRzfs00OI",
        "outputId": "769176ca-d58f-4198-fc99-a47038c8f941"
      },
      "execution_count": null,
      "outputs": [
        {
          "output_type": "execute_result",
          "data": {
            "text/plain": [
              "array([[ 0.00077464, -0.00027438,  0.00011053],\n",
              "       [-0.00027438,  0.00172115, -0.00130435],\n",
              "       [ 0.00011053, -0.00130435,  0.00182492]])"
            ]
          },
          "metadata": {},
          "execution_count": 75
        }
      ]
    },
    {
      "cell_type": "markdown",
      "source": [
        "# Solving first term of Black Litterman Formula\n",
        "\n",
        "\\begin{align}\n",
        "  [(τS)^{-1} + P^TΩ^{-1}P]^{-1}\n",
        "\\end{align}"
      ],
      "metadata": {
        "id": "aQljpYLW2pVg"
      }
    },
    {
      "cell_type": "code",
      "source": [
        "first_term = np.linalg.inv(np.linalg.inv(S) + np.dot(np.dot(np.transpose(P), np.linalg.inv(omega)), P))\n",
        "first_term"
      ],
      "metadata": {
        "colab": {
          "base_uri": "https://localhost:8080/"
        },
        "id": "zUBeMVRZ2HON",
        "outputId": "fc1cf0fe-7b08-45c0-be67-ab72a4dfd587"
      },
      "execution_count": null,
      "outputs": [
        {
          "output_type": "execute_result",
          "data": {
            "text/plain": [
              "array([[0.0021118 , 0.00182239, 0.00188472, 0.00164694, 0.00142077],\n",
              "       [0.00182239, 0.00244543, 0.00185559, 0.00159419, 0.00142329],\n",
              "       [0.00188472, 0.00185559, 0.00212632, 0.00181684, 0.00150875],\n",
              "       [0.00164694, 0.00159419, 0.00181684, 0.00181081, 0.00139709],\n",
              "       [0.00142077, 0.00142329, 0.00150875, 0.00139709, 0.00137069]])"
            ]
          },
          "metadata": {},
          "execution_count": 76
        }
      ]
    },
    {
      "cell_type": "markdown",
      "source": [
        "# Solving second term of Black Litterman Formula\n",
        "\n",
        "\\begin{align}\n",
        "  [(τS)^{-1}π + P^TΩ^{-1}Q]\n",
        "\\end{align}"
      ],
      "metadata": {
        "id": "fhN8wDlf3uKR"
      }
    },
    {
      "cell_type": "code",
      "source": [
        "second_term = np.dot(np.linalg.inv(S), pi) + np.dot(np.dot(np.transpose(P), np.linalg.inv(omega)), Q)\n",
        "second_term"
      ],
      "metadata": {
        "colab": {
          "base_uri": "https://localhost:8080/"
        },
        "id": "etkF4uR43kE-",
        "outputId": "e2a87652-1173-47b4-c248-03229a531ca0"
      },
      "execution_count": null,
      "outputs": [
        {
          "output_type": "execute_result",
          "data": {
            "text/plain": [
              "array([-22.73514932,  -4.76385737,  16.83493044, -12.11205798,\n",
              "        -3.81853047])"
            ]
          },
          "metadata": {},
          "execution_count": 77
        }
      ]
    },
    {
      "cell_type": "markdown",
      "source": [
        "# Expected Returns Based on Black Litterman Model\n",
        "\n",
        "\\begin{align}\n",
        "E(r) - r_f = [(τS)^{-1} + P^TΩ^{-1}P]^{-1}[(τS)^{-1}π + P^TΩ^{-1}Q]\n",
        "\\end{align}"
      ],
      "metadata": {
        "id": "KaNvL8zC5YBs"
      }
    },
    {
      "cell_type": "code",
      "source": [
        "expected_returns = np.dot(first_term, second_term)\n",
        "expected_returns"
      ],
      "metadata": {
        "colab": {
          "base_uri": "https://localhost:8080/"
        },
        "id": "VM9ls_yu4XGV",
        "outputId": "7b3406e3-965d-48a5-ff2c-bab56031d3bc"
      },
      "execution_count": null,
      "outputs": [
        {
          "output_type": "execute_result",
          "data": {
            "text/plain": [
              "array([-0.05033775, -0.04658696, -0.0436595 , -0.04171892, -0.03583767])"
            ]
          },
          "metadata": {},
          "execution_count": 78
        }
      ]
    },
    {
      "cell_type": "markdown",
      "source": [
        "# Black Litterman vs Historical Average"
      ],
      "metadata": {
        "id": "N933VUWk57SH"
      }
    },
    {
      "cell_type": "code",
      "source": [
        "print(\"historical average: \", returns.mean().to_numpy())\n",
        "print(\"black litterman: \", expected_returns)"
      ],
      "metadata": {
        "colab": {
          "base_uri": "https://localhost:8080/"
        },
        "id": "6l-M64fx56qu",
        "outputId": "6b3a47fd-724f-4c0c-c64e-8773a0e93800"
      },
      "execution_count": null,
      "outputs": [
        {
          "output_type": "stream",
          "name": "stdout",
          "text": [
            "historical average:  [-0.00622514 -0.00682578 -0.00736429 -0.00787661 -0.00620506]\n",
            "black litterman:  [-0.05033775 -0.04658696 -0.0436595  -0.04171892 -0.03583767]\n"
          ]
        }
      ]
    },
    {
      "cell_type": "markdown",
      "source": [
        "![WhatsApp Image 2022-11-06 at 00.10.31.jpeg](data:image/jpeg;base64,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)"
      ],
      "metadata": {
        "id": "EDEHpV8JLRIc"
      }
    },
    {
      "cell_type": "markdown",
      "source": [
        "# Reference\n",
        "\n",
        "https://www.youtube.com/watch?v=I3MKp2dL4Hk&t=2s&ab_channel=FriendlyFinancewithChandraS.Bhatnagar\n",
        "\n",
        "https://people.duke.edu/~charvey/Teaching/BA453_2006/Idzorek_onBL.pdf"
      ],
      "metadata": {
        "id": "vFMD_haM7s8U"
      }
    }
  ]
}